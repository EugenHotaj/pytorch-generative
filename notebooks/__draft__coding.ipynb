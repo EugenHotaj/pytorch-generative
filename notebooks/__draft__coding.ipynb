{
  "nbformat": 4,
  "nbformat_minor": 0,
  "metadata": {
    "colab": {
      "provenance": [],
      "authorship_tag": "ABX9TyPNhgp0RRLBs2TnOYft7vuM",
      "include_colab_link": true
    },
    "kernelspec": {
      "name": "python3",
      "display_name": "Python 3"
    },
    "language_info": {
      "name": "python"
    }
  },
  "cells": [
    {
      "cell_type": "markdown",
      "metadata": {
        "id": "view-in-github",
        "colab_type": "text"
      },
      "source": [
        "<a href=\"https://colab.research.google.com/github/EugenHotaj/pytorch-generative/blob/master/notebooks/__draft__coding.ipynb\" target=\"_parent\"><img src=\"https://colab.research.google.com/assets/colab-badge.svg\" alt=\"Open In Colab\"/></a>"
      ]
    },
    {
      "cell_type": "code",
      "execution_count": 16,
      "metadata": {
        "id": "lxG1p4Afzu65"
      },
      "outputs": [],
      "source": [
        "import math\n",
        "from typing import Optional\n",
        "from dataclasses import dataclass\n",
        "import heapq"
      ]
    },
    {
      "cell_type": "code",
      "source": [
        "message = \"A_DEAD_DAD_CEDED_A_BAD_BABE_A_BEADED_ABACA_BED\"\n",
        "\n",
        "abc = {}\n",
        "for m in message:\n",
        "    abc[m] = abc.get(m, 0) + 1\n",
        "\n",
        "total = sum(abc.values())\n",
        "abc_probs = {k:v/total for k, v in abc.items()}"
      ],
      "metadata": {
        "id": "xe9we4dG53O0"
      },
      "execution_count": 12,
      "outputs": []
    },
    {
      "cell_type": "markdown",
      "source": [
        "## Huffman Codes"
      ],
      "metadata": {
        "id": "SSWe7eMG9MpD"
      }
    },
    {
      "cell_type": "code",
      "source": [
        "@dataclass\n",
        "class Node:\n",
        "    data: str \n",
        "    weight: int\n",
        "    left: Optional[\"Node\"] = None\n",
        "    right: Optional[\"Node\"] = None\n",
        "\n",
        "    def __lt__(self, other: \"Node\"):\n",
        "        return self.weight < other.weight"
      ],
      "metadata": {
        "id": "FgeC3QdBAQk5"
      },
      "execution_count": 5,
      "outputs": []
    },
    {
      "cell_type": "code",
      "source": [
        "def build_tree(abc):\n",
        "    nodes = []\n",
        "    for k, v in abc.items():\n",
        "        nodes.append(Node(data=k, weight=v))\n",
        "    heapq.heapify(nodes)\n",
        "\n",
        "    while len(nodes) > 1:\n",
        "        n1, n2 = heapq.heappop(nodes), heapq.heappop(nodes)\n",
        "        data = n1.data + n2.data\n",
        "        weight = n1.weight + n2.weight\n",
        "        new_node = Node(data=data, weight=weight, left=n1, right=n2)\n",
        "        nodes.append(new_node)\n",
        "\n",
        "    return nodes[0]\n",
        "\n",
        "def build_codes(tree):\n",
        "\n",
        "    def _dfs(tree, codes, prefix):\n",
        "        if not tree.left:\n",
        "            codes[tree.data] = prefix \n",
        "        else:\n",
        "            _dfs(tree.left, codes, prefix + \"0\")\n",
        "            _dfs(tree.right, codes, prefix + \"1\")\n",
        "\n",
        "    codes = {}\n",
        "    _dfs(tree, codes, \"\")\n",
        "    return codes\n",
        "\n",
        "def encode(message, codes):\n",
        "    encoded = \"\"\n",
        "    for m in message:\n",
        "        encoded += codes[m]\n",
        "    return encoded\n",
        "\n",
        "def decode(message, codes):\n",
        "    inverse_codes = {v: k for k, v in codes.items()}\n",
        "    decoded = \"\"\n",
        "    current = \"\"\n",
        "    for m in message:\n",
        "        current += m\n",
        "        if current in inverse_codes:\n",
        "            decoded += inverse_codes[current]\n",
        "            current = \"\"\n",
        "    return decoded"
      ],
      "metadata": {
        "id": "6v7_-sbY9nat"
      },
      "execution_count": 6,
      "outputs": []
    },
    {
      "cell_type": "code",
      "source": [
        "tree = build_tree(abc)\n",
        "codes = build_codes(tree)"
      ],
      "metadata": {
        "id": "WQAgjryvGd17"
      },
      "execution_count": 7,
      "outputs": []
    },
    {
      "cell_type": "code",
      "source": [
        "encoded = encode(message, codes)\n",
        "decoded = decode(encoded, codes)\n",
        "\n",
        "print(decoded == message)"
      ],
      "metadata": {
        "colab": {
          "base_uri": "https://localhost:8080/"
        },
        "id": "5HWFM6DpGiyB",
        "outputId": "b7052d00-cb2b-411a-c28f-8f858f1f90b6"
      },
      "execution_count": 8,
      "outputs": [
        {
          "output_type": "stream",
          "name": "stdout",
          "text": [
            "True\n"
          ]
        }
      ]
    },
    {
      "cell_type": "markdown",
      "source": [
        "## Symmetric Numeral Systems"
      ],
      "metadata": {
        "id": "NjNSLphD3fH1"
      }
    },
    {
      "cell_type": "code",
      "source": [
        "def encode(message, abc):\n",
        "    n_abc = len(abc)\n",
        "    idxs = {k:i for i, k in enumerate(abc)}\n",
        "    encoded = 1\n",
        "    for m in reversed(message):\n",
        "        encoded = encoded * n_abc + idxs[m]\n",
        "    return encoded\n",
        "\n",
        "\n",
        "def decode(encoded, abc):\n",
        "    n_abc = len(abc)\n",
        "    idxs = {i: k for i, k in enumerate(abc)}\n",
        "    message = \"\"\n",
        "    while encoded != 1:\n",
        "        message += idxs[encoded % n_abc]\n",
        "        encoded = encoded // n_abc\n",
        "    return message \n"
      ],
      "metadata": {
        "id": "ek5HCuobEJPo"
      },
      "execution_count": 195,
      "outputs": []
    },
    {
      "cell_type": "code",
      "source": [
        "encoded = encode(message, abc)\n",
        "decoded = decode(encoded, abc)\n",
        "decoded == message"
      ],
      "metadata": {
        "colab": {
          "base_uri": "https://localhost:8080/"
        },
        "id": "9jCLHJ4yFsMQ",
        "outputId": "3eff3dbe-7b15-4fef-8f7b-178b4442ad4e"
      },
      "execution_count": 197,
      "outputs": [
        {
          "output_type": "execute_result",
          "data": {
            "text/plain": [
              "True"
            ]
          },
          "metadata": {},
          "execution_count": 197
        }
      ]
    },
    {
      "cell_type": "markdown",
      "source": [
        "## Asymetric Numeral Systems"
      ],
      "metadata": {
        "id": "EbIrr4x667gP"
      }
    },
    {
      "cell_type": "code",
      "source": [
        "def scale_abc(abc, n=10):\n",
        "    \"\"\"Scales the alphabet counts into the range [0, 2^n].\"\"\"\n",
        "    abc_total = sum(abc.values())\n",
        "    abc_probs = {k: v / abc_total for k, v in abc.items()}\n",
        "\n",
        "    n = 1 << n \n",
        "    errors = []\n",
        "    rescaled_abc = {}\n",
        "    for k, v in abc_probs.items():\n",
        "        vn = v * n\n",
        "        new_v = math.floor(vn)\n",
        "        error = vn - new_v\n",
        "        rescaled_abc[k] = new_v\n",
        "        errors.append((error, k))\n",
        "    \n",
        "    left = n - sum(rescaled_abc.values())\n",
        "    errors = sorted(errors, key=lambda x: -x[0])\n",
        "    for _, k in errors[:left]:\n",
        "        rescaled_abc[k] += 1\n",
        "    return rescaled_abc\n",
        "\n",
        "\n",
        "def encode(message, scaled_abc, n=10):\n",
        "    full_range = list(scaled_abc.values())\n",
        "    idxs = {k: i for i, k in enumerate(scaled_abc)}\n",
        "\n",
        "    encoded = 1\n",
        "    for s in reversed(message):\n",
        "        c_s = sum(full_range[:idxs[s]])\n",
        "        f_s = scaled_abc[s]\n",
        "        encoded = (encoded // f_s << n) + (encoded % f_s + c_s)\n",
        "    return encoded\n",
        "\n",
        "\n",
        "def decode(encoded, abc, n=10):\n",
        "    full_range = list(scaled_abc.values())\n",
        "    keys = list(scaled_abc.keys())\n",
        "    mask = (1 << n) - 1\n",
        "\n",
        "    message = \"\"\n",
        "    while encoded != 1:\n",
        "        modded = encoded & mask\n",
        "        c_s, idx, s = 0, 0, None\n",
        "        while True:\n",
        "            if c_s + full_range[idx] <= modded:\n",
        "                c_s += full_range[idx]\n",
        "                idx +=1\n",
        "            else:\n",
        "                s = keys[idx]\n",
        "                break\n",
        "        message += s\n",
        "        f_s = scaled_abc[s]\n",
        "        encoded = f_s * (encoded >> n) + modded - c_s\n",
        "\n",
        "    return message "
      ],
      "metadata": {
        "id": "XxuArMH1HEKM"
      },
      "execution_count": 198,
      "outputs": []
    },
    {
      "cell_type": "code",
      "source": [
        "n = 32\n",
        "scaled_abc = scale_abc(abc, n)\n",
        "encoded = encode(message, scaled_abc, n)\n",
        "decoded = decode(encoded, scaled_abc, n)"
      ],
      "metadata": {
        "id": "cjVNv8eqPnDg"
      },
      "execution_count": 199,
      "outputs": []
    }
  ]
}