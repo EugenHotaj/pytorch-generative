{
  "nbformat": 4,
  "nbformat_minor": 0,
  "metadata": {
    "colab": {
      "provenance": [],
      "authorship_tag": "ABX9TyOUOd0JaA/+bDQkvRQVIYcB",
      "include_colab_link": true
    },
    "kernelspec": {
      "name": "python3",
      "display_name": "Python 3"
    },
    "language_info": {
      "name": "python"
    }
  },
  "cells": [
    {
      "cell_type": "markdown",
      "metadata": {
        "id": "view-in-github",
        "colab_type": "text"
      },
      "source": [
        "<a href=\"https://colab.research.google.com/github/EugenHotaj/pytorch-generative/blob/master/notebooks/__draft__coding.ipynb\" target=\"_parent\"><img src=\"https://colab.research.google.com/assets/colab-badge.svg\" alt=\"Open In Colab\"/></a>"
      ]
    },
    {
      "cell_type": "code",
      "execution_count": 20,
      "metadata": {
        "id": "lxG1p4Afzu65"
      },
      "outputs": [],
      "source": [
        "from typing import Optional\n",
        "from dataclasses import dataclass\n",
        "import heapq"
      ]
    },
    {
      "cell_type": "markdown",
      "source": [
        "## Huffman Codes"
      ],
      "metadata": {
        "id": "SSWe7eMG9MpD"
      }
    },
    {
      "cell_type": "code",
      "source": [
        "message = \"A_DEAD_DAD_CEDED_A_BAD_BABE_A_BEADED_ABACA_BED\""
      ],
      "metadata": {
        "id": "Km3JBGBvz1Yg"
      },
      "execution_count": 59,
      "outputs": []
    },
    {
      "cell_type": "code",
      "source": [
        "@dataclass\n",
        "class Node:\n",
        "    data: str \n",
        "    weight: int\n",
        "    left: Optional[\"Node\"] = None\n",
        "    right: Optional[\"Node\"] = None\n",
        "\n",
        "    def __lt__(self, other: \"Node\"):\n",
        "        return self.weight < other.weight"
      ],
      "metadata": {
        "id": "FgeC3QdBAQk5"
      },
      "execution_count": 75,
      "outputs": []
    },
    {
      "cell_type": "code",
      "source": [
        "abc = {}\n",
        "for m in message:\n",
        "    abc[m] = abc.get(m, 0) + 1"
      ],
      "metadata": {
        "id": "GerN6Lj49RsQ"
      },
      "execution_count": 76,
      "outputs": []
    },
    {
      "cell_type": "code",
      "source": [
        "def build_tree(abc):\n",
        "    nodes = []\n",
        "    for k, v in abc.items():\n",
        "        nodes.append(Node(data=k, weight=v))\n",
        "    heapq.heapify(nodes)\n",
        "\n",
        "    while len(nodes) > 1:\n",
        "        n1, n2 = heapq.heappop(nodes), heapq.heappop(nodes)\n",
        "        data = n1.data + n2.data\n",
        "        weight = n1.weight + n2.weight\n",
        "        new_node = Node(data=data, weight=weight, left=n1, right=n2)\n",
        "        nodes.append(new_node)\n",
        "\n",
        "    return nodes[0]\n",
        "\n",
        "def build_codes(tree):\n",
        "\n",
        "    def _dfs(tree, codes, prefix):\n",
        "        if not tree.left:\n",
        "            codes[tree.data] = prefix \n",
        "        else:\n",
        "            _dfs(tree.left, codes, prefix + \"0\")\n",
        "            _dfs(tree.right, codes, prefix + \"1\")\n",
        "\n",
        "    codes = {}\n",
        "    _dfs(tree, codes, \"\")\n",
        "    return codes\n",
        "\n",
        "def encode(message, codes):\n",
        "    encoded = \"\"\n",
        "    for m in message:\n",
        "        encoded += codes[m]\n",
        "    return encoded\n",
        "\n",
        "def decode(message, codes):\n",
        "    inverse_codes = {v: k for k, v in codes.items()}\n",
        "    decoded = \"\"\n",
        "    current = \"\"\n",
        "    for m in message:\n",
        "        current += m\n",
        "        if current in inverse_codes:\n",
        "            decoded += inverse_codes[current]\n",
        "            current = \"\"\n",
        "    return decoded"
      ],
      "metadata": {
        "id": "6v7_-sbY9nat"
      },
      "execution_count": 87,
      "outputs": []
    },
    {
      "cell_type": "code",
      "source": [
        "tree = build_tree(abc)\n",
        "codes = build_codes(tree)"
      ],
      "metadata": {
        "id": "WQAgjryvGd17"
      },
      "execution_count": 88,
      "outputs": []
    },
    {
      "cell_type": "code",
      "source": [
        "encoded = encode(message, codes)\n",
        "decoded = decode(encoded, codes)"
      ],
      "metadata": {
        "id": "5HWFM6DpGiyB"
      },
      "execution_count": 89,
      "outputs": []
    },
    {
      "cell_type": "code",
      "source": [
        "decoded"
      ],
      "metadata": {
        "colab": {
          "base_uri": "https://localhost:8080/",
          "height": 35
        },
        "id": "L7lsqH5oGn2e",
        "outputId": "3487d534-c13b-4738-e868-a6019a2c81e0"
      },
      "execution_count": 90,
      "outputs": [
        {
          "output_type": "execute_result",
          "data": {
            "text/plain": [
              "'A_DEAD_DAD_CEDED_A_BAD_BABE_A_BEADED_ABACA_BED'"
            ],
            "application/vnd.google.colaboratory.intrinsic+json": {
              "type": "string"
            }
          },
          "metadata": {},
          "execution_count": 90
        }
      ]
    }
  ]
}